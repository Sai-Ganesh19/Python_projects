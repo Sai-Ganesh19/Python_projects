{
 "cells": [
  {
   "cell_type": "markdown",
   "id": "54707722",
   "metadata": {},
   "source": [
    "# BMI Calculator"
   ]
  },
  {
   "cell_type": "code",
   "execution_count": null,
   "id": "ce6daf1d",
   "metadata": {},
   "outputs": [],
   "source": [
    "#to convert Kg into pounds multiply the weight x 2.2046"
   ]
  },
  {
   "cell_type": "code",
   "execution_count": 20,
   "id": "5de8e6c6",
   "metadata": {},
   "outputs": [
    {
     "name": "stdout",
     "output_type": "stream",
     "text": [
      "Enter your weight in Kg:60\n",
      "Your weight in pounds:  132.276\n"
     ]
    }
   ],
   "source": [
    "a=int(input(\"Enter your weight in Kg:\"))\n",
    "\n",
    "b=(a*2.2046)\n",
    "\n",
    "print(\"Your weight in pounds: \",b)"
   ]
  },
  {
   "cell_type": "code",
   "execution_count": null,
   "id": "3b8c594c",
   "metadata": {},
   "outputs": [],
   "source": [
    "\n"
   ]
  },
  {
   "cell_type": "code",
   "execution_count": 25,
   "id": "55a3203f",
   "metadata": {},
   "outputs": [
    {
     "name": "stdout",
     "output_type": "stream",
     "text": [
      "Enter your name:SAI GANESH R\n",
      "Enter your weight in Pounds: 132\n",
      "Enter your height in Inches : 69\n",
      "19.490863264020163\n",
      "SAI GANESH R,You're within a healthy weight range. Keep up the good work!\n"
     ]
    }
   ],
   "source": [
    "name=input(\"Enter your name:\")\n",
    "\n",
    "weight= int(input(\"Enter your weight in Pounds: \"))\n",
    "\n",
    "height= int(input(\"Enter your height in Inches : \"))\n",
    "\n",
    "BMI = (weight * 703)/(height * height)\n",
    "\n",
    "print(BMI)\n",
    "\n",
    "if BMI > 0:\n",
    "    if (BMI<18.5):\n",
    "        print(name + \",You're underweight. Make sure to eat a balanced diet.\")\n",
    "    elif (BMI<=24.9):\n",
    "        print(name + \",You're within a healthy weight range. Keep up the good work!\")\n",
    "    elif (BMI<=29.9):\n",
    "        print(name + \",You're slightly overweight. Consider adding more physical activity to your routine.\")\n",
    "    elif (BMI<=34.9):\n",
    "        print(name + \",You're in the obese category. It's time to prioritize your health.\")\n",
    "    elif (BMI<=39.9):\n",
    "        print(name + \",You're severely obese. Immediate lifestyle changes are necessary.\")\n",
    "    elif (BMI>40 ):\n",
    "        print(name + \",You're morbidly obese. Please consult a healthcare professional for assistance.\")\n",
    "else:\n",
    "    print(\"Enter valid input\")"
   ]
  },
  {
   "cell_type": "code",
   "execution_count": null,
   "id": "4750ee69",
   "metadata": {},
   "outputs": [],
   "source": []
  },
  {
   "cell_type": "code",
   "execution_count": null,
   "id": "a1fbdd56",
   "metadata": {},
   "outputs": [],
   "source": []
  },
  {
   "cell_type": "code",
   "execution_count": null,
   "id": "13797c8d",
   "metadata": {},
   "outputs": [],
   "source": [
    "#BMI = (Weight in pounds x 703)/(Height in inches x Height in inches)"
   ]
  },
  {
   "cell_type": "code",
   "execution_count": null,
   "id": "c0e60e81",
   "metadata": {},
   "outputs": [],
   "source": []
  },
  {
   "cell_type": "code",
   "execution_count": null,
   "id": "7497f490",
   "metadata": {},
   "outputs": [],
   "source": [
    "Under 18.5\tUnderweight\tMinimal\n",
    "18.5 - 24.9\tNormal Weight\tMinimal\n",
    "25 - 29.9\tOverweight\tIncreased\n",
    "30 - 34.9\tObese\tHigh\n",
    "35 - 39.9\tSeverely Obese\tVery High\n",
    "40 and over\tMorbidly Obese\tExtremely High"
   ]
  },
  {
   "cell_type": "code",
   "execution_count": null,
   "id": "53623e3a",
   "metadata": {},
   "outputs": [],
   "source": []
  },
  {
   "cell_type": "code",
   "execution_count": null,
   "id": "f03b080a",
   "metadata": {},
   "outputs": [],
   "source": []
  },
  {
   "cell_type": "code",
   "execution_count": null,
   "id": "e8d3835b",
   "metadata": {},
   "outputs": [],
   "source": []
  },
  {
   "cell_type": "code",
   "execution_count": null,
   "id": "9aeddd49",
   "metadata": {},
   "outputs": [],
   "source": []
  },
  {
   "cell_type": "code",
   "execution_count": null,
   "id": "c6ad4100",
   "metadata": {},
   "outputs": [],
   "source": []
  }
 ],
 "metadata": {
  "kernelspec": {
   "display_name": "Python 3 (ipykernel)",
   "language": "python",
   "name": "python3"
  },
  "language_info": {
   "codemirror_mode": {
    "name": "ipython",
    "version": 3
   },
   "file_extension": ".py",
   "mimetype": "text/x-python",
   "name": "python",
   "nbconvert_exporter": "python",
   "pygments_lexer": "ipython3",
   "version": "3.11.4"
  }
 },
 "nbformat": 4,
 "nbformat_minor": 5
}
